{
 "cells": [
  {
   "cell_type": "markdown",
   "id": "1d6fb394",
   "metadata": {},
   "source": [
    "# Solution to the exercise from the [Dask notebook](0_Dask.ipynb)"
   ]
  },
  {
   "cell_type": "markdown",
   "id": "0f4e75f2",
   "metadata": {},
   "source": [
    "## Exercise: Run plane segmentation in parallel using a ``Cluster`` \n",
    "\n",
    "Note that this section will **not** work in Google Colab."
   ]
  },
  {
   "cell_type": "markdown",
   "id": "338af1aa",
   "metadata": {},
   "source": [
    "Create a pseudo Z-stack of dimension (10, 100, 100) (ZYX)"
   ]
  },
  {
   "cell_type": "code",
   "execution_count": 16,
   "id": "036ed3d0",
   "metadata": {},
   "outputs": [
    {
     "name": "stdout",
     "output_type": "stream",
     "text": [
      "(10, 100, 100)\n"
     ]
    }
   ],
   "source": [
    "import dask.array as da\n",
    "planes = da.random.random((10, 100, 100), chunks=(2, 10, 10))\n",
    "print(planes.shape)"
   ]
  },
  {
   "cell_type": "markdown",
   "id": "e294016f",
   "metadata": {},
   "source": [
    "Create a function ``analyze`` taking the z-section as a parameter.\n",
    "Return the label_image and the z-section so we can identify when we parse the results."
   ]
  },
  {
   "cell_type": "code",
   "execution_count": null,
   "id": "0c021f36",
   "metadata": {},
   "outputs": [],
   "source": [
    "def analyze(z):\n",
    "    plane = planes[z, :, :]\n",
    "    smoothed_image = dask_image.ndfilters.gaussian_filter(plane, sigma=[1, 1])\n",
    "    threshold_value = 0.33 * da.max(smoothed_image).compute()\n",
    "    threshold_image = smoothed_image > threshold_value\n",
    "    label_image, num_labels = dask_image.ndmeasure.label(threshold_image)\n",
    "    name = \"z:%s\" % (z)\n",
    "    return label_image, name"
   ]
  },
  {
   "cell_type": "markdown",
   "id": "91f3549f",
   "metadata": {},
   "source": [
    "Prepare the call"
   ]
  },
  {
   "cell_type": "code",
   "execution_count": null,
   "id": "a97d813d",
   "metadata": {},
   "outputs": [],
   "source": [
    "def prepare_call(client, dim_z):\n",
    "    futures = []\n",
    "    for z in range(dim_z):\n",
    "        futures.append(client.submit(analyze, z))\n",
    "    return futures"
   ]
  },
  {
   "cell_type": "markdown",
   "id": "d839e521",
   "metadata": {},
   "source": [
    "Create a default local cluster"
   ]
  },
  {
   "cell_type": "code",
   "execution_count": 17,
   "id": "d4c96ddc",
   "metadata": {},
   "outputs": [],
   "source": [
    "from dask.distributed import Client, LocalCluster"
   ]
  },
  {
   "cell_type": "code",
   "execution_count": null,
   "id": "27258824",
   "metadata": {},
   "outputs": [],
   "source": [
    "cluster = LocalCluster()\n",
    "\n",
    "with Client(cluster) as client:\n",
    "    # perform code\n",
    "    futures = prepare_call(client, planes.shape[0])\n",
    "    results = client.gather(futures)"
   ]
  }
 ],
 "metadata": {
  "kernelspec": {
   "display_name": "imaging_course_basic_day5_2024",
   "language": "python",
   "name": "imaging_course_basic_day5_2024"
  },
  "language_info": {
   "codemirror_mode": {
    "name": "ipython",
    "version": 3
   },
   "file_extension": ".py",
   "mimetype": "text/x-python",
   "name": "python",
   "nbconvert_exporter": "python",
   "pygments_lexer": "ipython3",
   "version": "3.9.19"
  }
 },
 "nbformat": 4,
 "nbformat_minor": 5
}
